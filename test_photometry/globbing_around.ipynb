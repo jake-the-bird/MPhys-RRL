{
 "cells": [
  {
   "cell_type": "code",
   "execution_count": 1,
   "metadata": {},
   "outputs": [],
   "source": [
    "import glob"
   ]
  },
  {
   "cell_type": "code",
   "execution_count": 21,
   "metadata": {},
   "outputs": [
    {
     "name": "stdout",
     "output_type": "stream",
     "text": [
      "data/PAL5\\PAL5__e1\\PAL5__e1_3p6um.fits\n",
      "data/PAL5\\PAL5__e2\\PAL5__e2_3p6um.fits\n",
      "data/PAL5\\PAL5__e3\\PAL5__e3_3p6um.fits\n",
      "data/PAL5\\PAL5__e4\\PAL5__e4_3p6um.fits\n",
      "data/PAL5\\PAL5__e5\\PAL5__e5_3p6um.fits\n",
      "data/PAL5\\PAL5__e6\\PAL5__e6_3p6um.fits\n",
      "data/PAL5\\PAL5__e7\\PAL5__e7_3p6um.fits\n",
      "data/PAL5\\PAL5__e8\\PAL5__e8_3p6um.fits\n",
      "data/PAL5\\PAL5__e9\\PAL5__e9_3p6um.fits\n",
      "data/PAL5\\PAL5__e10\\PAL5__e10_3p6um.fits\n",
      "data/PAL5\\PAL5__e11\\PAL5__e11_3p6um.fits\n",
      "data/PAL5\\PAL5__e12\\PAL5__e12_3p6um.fits\n",
      "['data/PAL5\\\\PAL5__e1\\\\PAL5__e1_3p6um.fits', 'data/PAL5\\\\PAL5__e2\\\\PAL5__e2_3p6um.fits', 'data/PAL5\\\\PAL5__e3\\\\PAL5__e3_3p6um.fits', 'data/PAL5\\\\PAL5__e4\\\\PAL5__e4_3p6um.fits', 'data/PAL5\\\\PAL5__e5\\\\PAL5__e5_3p6um.fits', 'data/PAL5\\\\PAL5__e6\\\\PAL5__e6_3p6um.fits', 'data/PAL5\\\\PAL5__e7\\\\PAL5__e7_3p6um.fits', 'data/PAL5\\\\PAL5__e8\\\\PAL5__e8_3p6um.fits', 'data/PAL5\\\\PAL5__e9\\\\PAL5__e9_3p6um.fits', 'data/PAL5\\\\PAL5__e10\\\\PAL5__e10_3p6um.fits', 'data/PAL5\\\\PAL5__e11\\\\PAL5__e11_3p6um.fits', 'data/PAL5\\\\PAL5__e12\\\\PAL5__e12_3p6um.fits']\n"
     ]
    }
   ],
   "source": [
    "base_dir = 'data/PAL5/*/'\n",
    "files = []\n",
    "for yep in glob.glob(base_dir + 'PAL5__e[0-9]_3p6um.fits', recursive=True) + glob.glob(base_dir + 'PAL5__e[0-9][0-9]_3p6um.fits', recursive=True):\n",
    "    files.append(yep)\n",
    "    print(yep)\n",
    "\n",
    "print(files)"
   ]
  },
  {
   "cell_type": "code",
   "execution_count": 13,
   "metadata": {},
   "outputs": [
    {
     "name": "stdout",
     "output_type": "stream",
     "text": [
      "sosig\n"
     ]
    }
   ],
   "source": [
    "print('sosig')"
   ]
  },
  {
   "cell_type": "code",
   "execution_count": null,
   "metadata": {},
   "outputs": [],
   "source": []
  }
 ],
 "metadata": {
  "kernelspec": {
   "display_name": "Python 3",
   "language": "python",
   "name": "python3"
  },
  "language_info": {
   "codemirror_mode": {
    "name": "ipython",
    "version": 3
   },
   "file_extension": ".py",
   "mimetype": "text/x-python",
   "name": "python",
   "nbconvert_exporter": "python",
   "pygments_lexer": "ipython3",
   "version": "3.8.3"
  }
 },
 "nbformat": 4,
 "nbformat_minor": 4
}
