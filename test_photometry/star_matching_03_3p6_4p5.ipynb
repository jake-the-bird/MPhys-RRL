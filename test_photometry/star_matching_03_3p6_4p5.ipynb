{
 "cells": [
  {
   "cell_type": "code",
   "execution_count": 2,
   "metadata": {},
   "outputs": [],
   "source": [
    "import numpy as np\n",
    "import math\n",
    "import pandas as pd\n",
    "import matplotlib.pyplot as plt\n",
    "from astropy.coordinates import SkyCoord\n",
    "from astropy import units as u\n",
    "from astropy import wcs\n",
    "from astropy.io import fits\n",
    "from astropy.coordinates import SkyCoord\n",
    "from astropy.coordinates import match_coordinates_sky\n",
    "from astropy.io import ascii"
   ]
  },
  {
   "cell_type": "code",
   "execution_count": 57,
   "metadata": {},
   "outputs": [],
   "source": [
    "def deg_to_sex(ra, dec):\n",
    "    c = SkyCoord(ra = ra*u.degree, dec = dec*u.degree)\n",
    "    print('RA: {0}\\ndec: {1}'.format(c.ra.hms, c.dec.dms))"
   ]
  },
  {
   "cell_type": "code",
   "execution_count": 10,
   "metadata": {},
   "outputs": [],
   "source": [
    "image3 = 'data/PAL5/PAL5__e1/PAL5__e1_3p6um.fits'\n",
    "image4 = 'data/PAL5/PAL5__e1/PAL5__e1_4p5um.fits'\n",
    "\n",
    "with fits.open(image3) as hdul:\n",
    "    data3 = hdul[0].data\n",
    "    hdr3 = hdul[0].header\n",
    "    \n",
    "with fits.open(image4) as hdul:\n",
    "    data4 = hdul[0].data\n",
    "    hdr4 = hdul[0].header"
   ]
  },
  {
   "cell_type": "code",
   "execution_count": 51,
   "metadata": {},
   "outputs": [
    {
     "name": "stdout",
     "output_type": "stream",
     "text": [
      " id  xcenter   ycenter  apparent_mag_median\n",
      "--- --------- --------- -------------------\n",
      "  1 1335.7201 23.327156                 nan\n",
      "  2  1017.072 24.456139                 nan\n",
      "  3 1325.4233 24.020858                 nan\n",
      "  4 1267.5653 27.531396           17.188494\n",
      "  5 1138.3723 28.990912            16.84821\n",
      "  6  1300.237 29.593042           16.491523\n",
      "  7 722.22393 37.943258                 nan\n",
      "  8 797.63943 39.455565                 nan\n",
      "  9 910.48561  40.64482           17.511316\n",
      " 10 1150.0528 41.601753           15.136903\n",
      "...       ...       ...                 ...\n",
      "587 1144.7378 653.51864                 nan\n",
      "588  186.0682 654.73342           18.169397\n",
      "589 1036.0708 653.70605                 nan\n",
      "590 980.18034 655.72281                 nan\n",
      "591 370.13387 660.44529           17.134511\n",
      "592 419.57363 664.80689             16.6271\n",
      "593  282.3413 666.48873            17.74012\n",
      "594 410.61334 668.12726           16.011201\n",
      "595 538.22026 667.98723                 nan\n",
      "596 137.39183 668.73458           17.044523\n",
      "597 433.18189 673.11312                 nan\n",
      "Length = 597 rows\n",
      " id  xcenter   ycenter  apparent_mag_median\n",
      "--- --------- --------- -------------------\n",
      "247 771.96573 296.55047           16.285668\n",
      " id  xcenter   ycenter  apparent_mag_median\n",
      "--- --------- --------- -------------------\n",
      "240 91.378355 317.40204           16.032146\n"
     ]
    }
   ],
   "source": [
    "filename3 = 'outputs/e1_3p6.txt'\n",
    "filename4 = 'outputs/e1_4p5.txt'\n",
    "\n",
    "file3 = ascii.read(filename3, delimiter=',')\n",
    "file4 = ascii.read(filename4, delimiter=',')\n",
    "print(file3)\n",
    "print(file3[:][246])\n",
    "print(file4[:][239])\n",
    "\n",
    "#plt.plot(file_ap['apparent_mag_median'], file_psf['apparent_mag'][:1036])"
   ]
  },
  {
   "cell_type": "code",
   "execution_count": 11,
   "metadata": {},
   "outputs": [],
   "source": [
    "x3 = file3['xcenter']\n",
    "y3 = file3['ycenter']\n",
    "x4 = file4['xcenter']\n",
    "y4 = file4['ycenter']\n",
    "\n",
    "#plt.plot(x4, y4, 'b+', lw=0.15, markersize=8)\n",
    "#plt.plot(x3, y3, 'r.')\n",
    "#plt.gcf().set_size_inches(10, 6)"
   ]
  },
  {
   "cell_type": "code",
   "execution_count": 5,
   "metadata": {},
   "outputs": [],
   "source": [
    "#coords_ap = SkyCoord(ra = x_ap, dec = y_ap)"
   ]
  },
  {
   "cell_type": "code",
   "execution_count": 61,
   "metadata": {},
   "outputs": [
    {
     "name": "stdout",
     "output_type": "stream",
     "text": [
      "WCS Keywords\n",
      "\n",
      "Number of WCS axes: 2\n",
      "CTYPE : 'RA---TAN'  'DEC--TAN'  \n",
      "CRVAL : 229.025811  -0.055425  \n",
      "CRPIX : 707.123426  348.040937  \n",
      "CD1_1 CD1_2  : -2.7239819090855e-05  -0.000164428954736985  \n",
      "CD2_1 CD2_2  : -0.000164428954736985  2.7239819090855e-05  \n",
      "NAXIS : 1413  695 WCS Keywords\n",
      "\n",
      "Number of WCS axes: 2\n",
      "CTYPE : 'RA---TAN'  'DEC--TAN'  \n",
      "CRVAL : 229.01073  -0.167517  \n",
      "CRPIX : 704.554985  346.90351  \n",
      "CD1_1 CD1_2  : -2.76759076885448e-05  -0.000164356116508073  \n",
      "CD2_1 CD2_2  : -0.000164356116508073  2.76759076885448e-05  \n",
      "NAXIS : 1408  693\n",
      "229.03231956662157 -0.06762673179030487\n",
      "229.03235691606577 -0.06769092671708603\n",
      "RA: hms_tuple(h=15.0, m=16.0, s=7.756695989184124)\n",
      "dec: dms_tuple(d=-0.0, m=-4.0, s=-3.4562344450975147)\n",
      "RA: hms_tuple(h=15.0, m=16.0, s=7.765659855793103)\n",
      "dec: dms_tuple(d=-0.0, m=-4.0, s=-3.6873361815097105)\n"
     ]
    }
   ],
   "source": [
    "w3 = wcs.WCS(hdr3)\n",
    "w4 = wcs.WCS(hdr4)\n",
    "print(w3, w4)\n",
    "#w.wcs.print_contents()\n",
    "\n",
    "crd3 = np.transpose((x3, y3))\n",
    "crd4 = np.transpose((x4, y4))\n",
    "world3 = w3.wcs_pix2world(crd3, 0)\n",
    "world4 = w4.wcs_pix2world(crd4, 0)\n",
    "\n",
    "#print(world_ap, world_psf)\n",
    "\n",
    "ra3 = world3[:,0]\n",
    "dec3 = world3[:,1]\n",
    "ra4 = world4[:,0]\n",
    "dec4 = world4[:,1]\n",
    "\n",
    "# checking a star known to be detected in both channels has the correct coordinates:\n",
    "print(ra3[246], dec3[246])\n",
    "print(ra4[239], dec4[239])\n",
    "deg_to_sex(ra3[246], dec3[246])\n",
    "deg_to_sex(ra4[239], dec4[239])"
   ]
  },
  {
   "cell_type": "code",
   "execution_count": 84,
   "metadata": {},
   "outputs": [
    {
     "name": "stdout",
     "output_type": "stream",
     "text": [
      "Number of common stars: 216\n"
     ]
    }
   ],
   "source": [
    "c3 = SkyCoord(ra3, dec3, frame='icrs', unit='deg')\n",
    "c4 = SkyCoord(ra4, dec4, frame='icrs', unit='deg')\n",
    "#print(len(c3), len(c4))\n",
    "\n",
    "idx, d2d, d3d = c4.match_to_catalog_sky(c3)\n",
    "#print(idx, d2d, d3d)\n",
    "#print(len(idx))\n",
    "#print(d2d)\n",
    "\n",
    "data3_new = file3.copy()\n",
    "data4_new = file4.copy()\n",
    "#print(data3_new, data3_new['xcenter'])\n",
    "data3_new['ra'] = ra3\n",
    "data3_new['dec'] = dec3\n",
    "data4_new['ra'] = ra4\n",
    "data4_new['dec'] = dec4\n",
    "#print(data3_new['ra'])\n",
    "\n",
    "radius = 1. * u.arcsec\n",
    "selection = (d2d > radius)\n",
    "match_index = idx\n",
    "match_index[selection] = -99.\n",
    "ind = ((match_index >= 0))  # removes -99 indices\n",
    "#print(ind)\n",
    "print('Number of common stars: {}'.format(sum(ind)))\n",
    "\n",
    "mag3 = data3_new['apparent_mag_median'][match_index][ind]\n",
    "mag4 = data4_new['apparent_mag_median'][ind]\n",
    "delta_mag = data3_new['apparent_mag_median'][match_index][ind] - data4_new['apparent_mag_median'][ind]"
   ]
  },
  {
   "cell_type": "code",
   "execution_count": 85,
   "metadata": {},
   "outputs": [
    {
     "data": {
      "image/png": "[encoded data removed]",
      "text/plain": [
       "<Figure size 720x576 with 1 Axes>"
      ]
     },
     "metadata": {
      "needs_background": "light"
     },
     "output_type": "display_data"
    }
   ],
   "source": [
    "plt.plot(mag3, delta_mag, 'b+', label='3.6 um', markersize=4)\n",
    "plt.plot(mag4, delta_mag, 'rx', label='4.5 um', markersize=4)\n",
    "plt.xlabel('Apparent magnitude')\n",
    "plt.ylabel('Delta magnitude')\n",
    "plt.legend()\n",
    "plt.grid()\n",
    "plt.axis('equal')\n",
    "plt.gcf().set_size_inches(10, 8)\n",
    "\n",
    "#print(mag3[69], mag4[69], delta_mag[69])"
   ]
  },
  {
   "cell_type": "markdown",
   "metadata": {},
   "source": [
    "with 0.6x0.6 arcsec pixels, 6 pix (i.e. aperture radius) = 3.6 arcsec = 0.001 deg:\n",
    "\n",
    "(definitely don't want to use this for max separation tho; since psf and ap phot both use ap phot to detect stars, the centroid coords should hopefully be identical, or at least very very close)"
   ]
  },
  {
   "cell_type": "code",
   "execution_count": 86,
   "metadata": {},
   "outputs": [
    {
     "data": {
      "text/latex": [
       "$0.001 \\; \\mathrm{{}^{\\circ}}$"
      ],
      "text/plain": [
       "<Quantity 0.001 deg>"
      ]
     },
     "execution_count": 86,
     "metadata": {},
     "output_type": "execute_result"
    }
   ],
   "source": [
    "x = 3.6 * u.arcsec\n",
    "x.to(u.deg)"
   ]
  },
  {
   "cell_type": "code",
   "execution_count": 87,
   "metadata": {},
   "outputs": [
    {
     "name": "stdout",
     "output_type": "stream",
     "text": [
      "216\n",
      "216\n",
      "<SkyCoord (ICRS): (ra, dec) in deg\n",
      "    [(229.06305313, -0.15630144), (229.06634935, -0.13511351),\n",
      "     (229.06189427, -0.16179695), (229.07390251, -0.07883994),\n",
      "     (229.07061279, -0.09741411), (229.06394368, -0.13673372),\n",
      "     (229.05803561, -0.16838569), (229.06305275, -0.13372314),\n",
      "     (229.05855204, -0.1592497 ), (229.06929964, -0.08788329),\n",
      "     (229.05841002, -0.14661603), (229.06042937, -0.12788044),\n",
      "     (229.05824494, -0.14144383), (229.05315286, -0.16751511),\n",
      "     (229.06390505, -0.10076131), (229.05865781, -0.13152539),\n",
      "     (229.06652375, -0.0807575 ), (229.05387519, -0.1487382 ),\n",
      "     (229.05088351, -0.16587878), (229.06273622, -0.09457739),\n",
      "     (229.0590147 , -0.11162738), (229.05165067, -0.15486978),\n",
      "     (229.05654053, -0.12319124), (229.05443955, -0.12816341),\n",
      "     (229.05397336, -0.12679075), (229.05772375, -0.09424562),\n",
      "     (229.05490634, -0.1081627 ), (229.05614825, -0.09746867),\n",
      "     (229.04966745, -0.13318384), (229.05238789, -0.11489009),\n",
      "     (229.06075162, -0.06364787), (229.05126391, -0.11842893),\n",
      "     (229.0597337 , -0.06646088), (229.05581594, -0.08653807),\n",
      "     (229.04628501, -0.1430895 ), (229.04518457, -0.14174079),\n",
      "     (229.04967063, -0.11244843), (229.04649291, -0.12973316),\n",
      "     (229.05307861, -0.08817889), (229.05210038, -0.09023403),\n",
      "     (229.05289839, -0.08313358), (229.04520061, -0.12923365),\n",
      "     (229.0413186 , -0.1511994 ), (229.05024469, -0.09568888),\n",
      "     (229.04555067, -0.12101474), (229.04646689, -0.11419879),\n",
      "     (229.04904789, -0.09436815), (229.04055478, -0.14191024),\n",
      "     (229.05151277, -0.06787952), (229.03226481, -0.1717176 ),\n",
      "     (229.04770587, -0.07588129), (229.04417181, -0.09709379),\n",
      "     (229.04135248, -0.11068434), (229.03577214, -0.14420739),\n",
      "     (229.03614097, -0.13411645), (229.03453685, -0.14162217),\n",
      "     (229.02843941, -0.16769216), (229.03468607, -0.12714933),\n",
      "     (229.03756497, -0.10843006), (229.04422581, -0.06801607),\n",
      "     (229.03218173, -0.13816342), (229.03871165, -0.09796348),\n",
      "     (229.0337043 , -0.12684061), (229.0378165 , -0.10133907),\n",
      "     (229.04096651, -0.0794297 ), (229.03454765, -0.11723462),\n",
      "     (229.03586405, -0.1081834 ), (229.04228337, -0.06261036),\n",
      "     (229.03061875, -0.13249382), (229.03580531, -0.10069151),\n",
      "     (229.02526943, -0.1634847 ), (229.02808101, -0.13645644),\n",
      "     (229.02580946, -0.14753674), (229.02358077, -0.16109114),\n",
      "     (229.03546218, -0.08608912), (229.02510349, -0.14042637),\n",
      "     (229.03322127, -0.08917475), (229.03835215, -0.05800238),\n",
      "     (229.01987804, -0.16763478), (229.03007236, -0.10190552),\n",
      "     (229.02722133, -0.11686615), (229.03348412, -0.07179687),\n",
      "     (229.02713528, -0.10839173), (229.03053977, -0.08244466),\n",
      "     (229.02448486, -0.11785171), (229.02608446, -0.10707232),\n",
      "     (229.02952481, -0.08619357), (229.0182238 , -0.15296853),\n",
      "     (229.03235692, -0.06769093), (229.0238043 , -0.11589618),\n",
      "     (229.02412388, -0.1069026 ), (229.02496474, -0.09757331),\n",
      "     (229.02669106, -0.08576281), (229.02138504, -0.11731274),\n",
      "     (229.02470694, -0.09664577), (229.018176  , -0.1355213 ),\n",
      "     (229.01811818, -0.13083784), (229.02782747, -0.0717231 ),\n",
      "     (229.01622352, -0.13727084), (229.02805194, -0.06434155),\n",
      "     (229.01698051, -0.13014873), (229.02003411, -0.10762908),\n",
      "     (229.0151383 , -0.13387369), (229.02051487, -0.10037286),\n",
      "     (229.02319207, -0.08377973), (229.00887565, -0.16519393),\n",
      "     (229.01396631, -0.13455692), (229.01349097, -0.13719547),\n",
      "     (229.01034832, -0.15231977), (229.01504505, -0.12131535),\n",
      "     (229.01406142, -0.1259371 ), (229.01738797, -0.09943167),\n",
      "     (229.00962089, -0.14365273), (229.02244899, -0.06614303),\n",
      "     (229.01311822, -0.12123652), (229.00855983, -0.14487064),\n",
      "     (229.0055012 , -0.15943012), (229.01909798, -0.07797593),\n",
      "     (229.00614771, -0.15276948), (229.01415935, -0.10368043),\n",
      "     (229.01561384, -0.09273686), (229.00737428, -0.14101836),\n",
      "     (229.00837384, -0.134013  ), (229.00379025, -0.15810108),\n",
      "     (229.00261761, -0.15839535), (229.01358547, -0.08772903),\n",
      "     (229.00663543, -0.1257568 ), (229.00215473, -0.15198025),\n",
      "     (229.01078691, -0.09378613), (229.00114237, -0.14973517),\n",
      "     (228.99953281, -0.15928713), (229.00134261, -0.14670235),\n",
      "     (229.01083826, -0.08935495), (229.01251517, -0.07893927),\n",
      "     (229.00763296, -0.10211128), (229.00373638, -0.12561947),\n",
      "     (229.00221461, -0.1222298 ), (229.00459113, -0.10724464),\n",
      "     (229.00005984, -0.13348162), (229.00273757, -0.11416557),\n",
      "     (229.00284121, -0.11115798), (228.99441794, -0.16068088),\n",
      "     (228.99743496, -0.14115363), (229.01223056, -0.0522197 ),\n",
      "     (229.00991288, -0.06413327), (228.99604051, -0.14752807),\n",
      "     (228.99427541, -0.1579251 ), (228.99700602, -0.13782319),\n",
      "     (228.99276839, -0.1628112 ), (229.00488454, -0.0849805 ),\n",
      "     (228.9968569 , -0.13164807), (228.99611655, -0.13471771),\n",
      "     (229.00077819, -0.10628194), (229.00136251, -0.0998842 ),\n",
      "     (228.99651595, -0.11729214), (228.99356945, -0.13228471),\n",
      "     (228.99190658, -0.14279259), (228.99701321, -0.1093365 ),\n",
      "     (229.00037173, -0.08710085), (228.99820565, -0.09607956),\n",
      "     (229.00518879, -0.05231583), (228.99112368, -0.13621156),\n",
      "     (228.98686557, -0.16085513), (228.99697866, -0.09707863),\n",
      "     (228.99320245, -0.12009864), (228.99229388, -0.12482384),\n",
      "     (228.98778317, -0.14718852), (229.00356418, -0.05087732),\n",
      "     (228.99635485, -0.08971738), (228.98538253, -0.15173613),\n",
      "     (228.99310885, -0.10308962), (228.99131769, -0.11449762),\n",
      "     (228.99093103, -0.11591094), (228.99606882, -0.08394967),\n",
      "     (228.99539569, -0.08802258), (228.99992076, -0.05573359),\n",
      "     (228.99271606, -0.09652043), (228.99029972, -0.10745664),\n",
      "     (228.99814273, -0.05969004), (228.99359923, -0.08658795),\n",
      "     (228.99271307, -0.0915589 ), (228.98725257, -0.12366316),\n",
      "     (228.99008894, -0.10587093), (228.99838914, -0.0563469 ),\n",
      "     (228.98848095, -0.11473189), (228.9908863 , -0.09821241),\n",
      "     (228.9957271 , -0.06637717), (228.99255303, -0.08097303),\n",
      "     (228.98787511, -0.1072322 ), (228.99600263, -0.05657459),\n",
      "     (228.99460602, -0.05504711), (228.98278243, -0.12387863),\n",
      "     (228.99272761, -0.0602229 ), (228.98078662, -0.13030705),\n",
      "     (228.98784389, -0.08702385), (228.98379308, -0.1015426 ),\n",
      "     (228.97856833, -0.12418597), (228.9882219 , -0.06492875),\n",
      "     (228.98292023, -0.09556211), (228.97574988, -0.13528797),\n",
      "     (228.97466278, -0.13990756), (228.97830248, -0.11519522),\n",
      "     (228.98047174, -0.09559237), (228.97631269, -0.1203204 ),\n",
      "     (228.97691488, -0.11316018), (228.97248183, -0.13479018),\n",
      "     (228.97226666, -0.12962208), (228.98191678, -0.06443963),\n",
      "     (228.9708374 , -0.128996  ), (228.97641227, -0.09020838),\n",
      "     (228.97263669, -0.11186466), (228.96921259, -0.12783663),\n",
      "     (228.97523775, -0.06262368), (228.9634921 , -0.12780273),\n",
      "     (228.97068421, -0.077279  ), (228.96364526, -0.11922182)]>\n",
      "<SkyCoord (ICRS): (ra, dec) in deg\n",
      "    [(229.06305412, -0.15644554), (229.06633332, -0.13516277),\n",
      "     (229.06182516, -0.16176154), (229.07389409, -0.07885142),\n",
      "     (229.07062465, -0.0973742 ), (229.06394155, -0.13673987),\n",
      "     (229.05801424, -0.16835853), (229.06306416, -0.133635  ),\n",
      "     (229.05854534, -0.15912401), (229.06919269, -0.08793421),\n",
      "     (229.05821302, -0.14666347), (229.06036277, -0.12790878),\n",
      "     (229.05826279, -0.14134143), (229.05322218, -0.16743035),\n",
      "     (229.06387299, -0.10074638), (229.05863488, -0.13148099),\n",
      "     (229.066493  , -0.08073742), (229.05384308, -0.14876712),\n",
      "     (229.0509222 , -0.16595056), (229.06270929, -0.09456132),\n",
      "     (229.05898782, -0.11162908), (229.05172551, -0.15488548),\n",
      "     (229.05656975, -0.12318939), (229.05440153, -0.12811964),\n",
      "     (229.05396293, -0.12670739), (229.05771044, -0.09419557),\n",
      "     (229.05488815, -0.10810753), (229.05612257, -0.09747337),\n",
      "     (229.04964569, -0.13311574), (229.05231692, -0.11486894),\n",
      "     (229.06071012, -0.06358595), (229.0513007 , -0.11837327),\n",
      "     (229.05962678, -0.06641846), (229.05581675, -0.08650056),\n",
      "     (229.04632228, -0.14308391), (229.04514832, -0.14181373),\n",
      "     (229.04961817, -0.11243016), (229.04646119, -0.12976741),\n",
      "     (229.05311099, -0.08816973), (229.05206721, -0.09025008),\n",
      "     (229.0528508 , -0.08314609), (229.04515358, -0.12926876),\n",
      "     (229.04134249, -0.15117288), (229.05021558, -0.09566912),\n",
      "     (229.04551681, -0.12106238), (229.04650739, -0.1141764 ),\n",
      "     (229.04902932, -0.09429647), (229.04058441, -0.14190827),\n",
      "     (229.051482  , -0.06784621), (229.03221386, -0.17173532),\n",
      "     (229.04766279, -0.07587871), (229.04419417, -0.09703158),\n",
      "     (229.04133701, -0.1106895 ), (229.03579961, -0.14412474),\n",
      "     (229.03609228, -0.13416658), (229.03450111, -0.14155775),\n",
      "     (229.0284054 , -0.16776478), (229.03468693, -0.12715799),\n",
      "     (229.03758227, -0.10846916), (229.04419935, -0.06799405),\n",
      "     (229.03218757, -0.1381012 ), (229.03871412, -0.09794268),\n",
      "     (229.03366207, -0.12684535), (229.03773228, -0.1013075 ),\n",
      "     (229.0408955 , -0.07941181), (229.03446348, -0.11723441),\n",
      "     (229.03583158, -0.10818389), (229.042259  , -0.06253095),\n",
      "     (229.03056502, -0.13251633), (229.03581459, -0.10072889),\n",
      "     (229.02531438, -0.16351272), (229.02811495, -0.13646209),\n",
      "     (229.02585831, -0.14759129), (229.0235777 , -0.16129673),\n",
      "     (229.03543309, -0.08606869), (229.02510269, -0.14037588),\n",
      "     (229.03316328, -0.08917579), (229.03829103, -0.05805631),\n",
      "     (229.01987459, -0.16763896), (229.03005882, -0.10185811),\n",
      "     (229.02719358, -0.11685961), (229.03334374, -0.07181902),\n",
      "     (229.02711328, -0.10843236), (229.03048296, -0.08242111),\n",
      "     (229.02442668, -0.11790476), (229.02604746, -0.10703736),\n",
      "     (229.02951074, -0.08614033), (229.0182078 , -0.15300175),\n",
      "     (229.03231957, -0.06762673), (229.02381165, -0.11585858),\n",
      "     (229.02405387, -0.10689388), (229.02488216, -0.09752861),\n",
      "     (229.02665853, -0.08580239), (229.02136495, -0.11731896),\n",
      "     (229.02469125, -0.09672364), (229.01812656, -0.1354399 ),\n",
      "     (229.01805596, -0.13087074), (229.02781411, -0.07170139),\n",
      "     (229.01618718, -0.13726574), (229.02798987, -0.06423607),\n",
      "     (229.01696971, -0.13014785), (229.02004617, -0.10762145),\n",
      "     (229.01513658, -0.13385965), (229.02051512, -0.10047395),\n",
      "     (229.02312757, -0.08382468), (229.00894176, -0.16529984),\n",
      "     (229.01393176, -0.13462353), (229.01347641, -0.13718798),\n",
      "     (229.01039296, -0.15230688), (229.01505945, -0.12130982),\n",
      "     (229.01402026, -0.12591389), (229.01736753, -0.09942045),\n",
      "     (229.0095999 , -0.14360127), (229.02244316, -0.06609188),\n",
      "     (229.01308185, -0.12121421), (229.00855284, -0.14489739),\n",
      "     (229.00546495, -0.15936957), (229.01905674, -0.07797126),\n",
      "     (229.00621693, -0.15291634), (229.0141942 , -0.10365411),\n",
      "     (229.01561413, -0.09278771), (229.00732243, -0.14104997),\n",
      "     (229.00836342, -0.13405849), (229.00371661, -0.15809026),\n",
      "     (229.00259603, -0.15844371), (229.01357199, -0.08773936),\n",
      "     (229.0066067 , -0.12578064), (229.00223033, -0.15198994),\n",
      "     (229.01073369, -0.09374674), (229.00119111, -0.14973886),\n",
      "     (228.99964035, -0.15931799), (229.00137137, -0.14666895),\n",
      "     (229.01079905, -0.08933232), (229.01249668, -0.07895341),\n",
      "     (229.00759806, -0.10211713), (229.00370708, -0.12569733),\n",
      "     (229.00218831, -0.12225464), (229.00459462, -0.1072628 ),\n",
      "     (229.00006112, -0.13344805), (229.00279319, -0.11419285),\n",
      "     (229.00278153, -0.11118513), (228.99434674, -0.16066747),\n",
      "     (228.99740415, -0.1411818 ), (229.01223019, -0.05222559),\n",
      "     (229.00991979, -0.06406275), (228.99604266, -0.14752056),\n",
      "     (228.99431538, -0.15797128), (228.99700133, -0.13782535),\n",
      "     (228.99277754, -0.16290307), (229.00485146, -0.08498258),\n",
      "     (228.99683192, -0.13167103), (228.99609855, -0.134758  ),\n",
      "     (229.00074929, -0.10630576), (229.00133507, -0.09992835),\n",
      "     (228.99650046, -0.11731397), (228.99356701, -0.1323191 ),\n",
      "     (228.99193807, -0.14275432), (228.9970076 , -0.10933157),\n",
      "     (229.00034263, -0.08716388), (228.99818738, -0.09611819),\n",
      "     (229.00512767, -0.05227379), (228.9911155 , -0.13627382),\n",
      "     (228.98673672, -0.16084504), (228.99692648, -0.09705165),\n",
      "     (228.99321208, -0.12010828), (228.99230004, -0.12484926),\n",
      "     (228.98775148, -0.14719115), (229.00353481, -0.05090672),\n",
      "     (228.99635688, -0.08969654), (228.98544846, -0.15163986),\n",
      "     (228.99307826, -0.10311954), (228.991318  , -0.11449297),\n",
      "     (228.99089144, -0.11592339), (228.99606858, -0.08393972),\n",
      "     (228.99537831, -0.0880619 ), (228.99992308, -0.05575107),\n",
      "     (228.99266547, -0.09652331), (228.99029895, -0.10739883),\n",
      "     (228.99813837, -0.05971208), (228.99364504, -0.08649615),\n",
      "     (228.99270474, -0.09161913), (228.98722827, -0.12369242),\n",
      "     (228.99006887, -0.10589821), (228.99846636, -0.05627449),\n",
      "     (228.98840301, -0.11472946), (228.99089384, -0.09823346),\n",
      "     (228.99563193, -0.06643502), (228.99249474, -0.08101725),\n",
      "     (228.98786485, -0.10727556), (228.99603437, -0.05652992),\n",
      "     (228.9945979 , -0.05502977), (228.98277554, -0.12393962),\n",
      "     (228.99263792, -0.06015546), (228.98078797, -0.13026667),\n",
      "     (228.98778516, -0.08712076), (228.98377982, -0.10155705),\n",
      "     (228.97849657, -0.12422392), (228.9882316 , -0.06510809),\n",
      "     (228.98276985, -0.09552879), (228.97566597, -0.13535644),\n",
      "     (228.97464234, -0.1399452 ), (228.97829227, -0.11520275),\n",
      "     (228.9803102 , -0.09544235), (228.9762679 , -0.1202953 ),\n",
      "     (228.97689174, -0.11319414), (228.97238474, -0.13474707),\n",
      "     (228.97233501, -0.12960634), (228.98194431, -0.06436653),\n",
      "     (228.97084328, -0.12888812), (228.97637866, -0.09024172),\n",
      "     (228.97260406, -0.11172894), (228.96919341, -0.12789315),\n",
      "     (228.97512571, -0.06253029), (228.96346608, -0.12777726),\n",
      "     (228.97074736, -0.07735716), (228.96346934, -0.11919741)]>\n"
     ]
    }
   ],
   "source": [
    "#max_sep = 0.0001 * u.deg\n",
    "constraint = d2d < radius\n",
    "c4_matches = c4[constraint]\n",
    "c3_matches = c3[idx[constraint]]\n",
    "\n",
    "print(len(c3_matches))\n",
    "print(len(c4_matches))\n",
    "#print(c3_matches)\n",
    "#print(c4_matches)"
   ]
  },
  {
   "cell_type": "code",
   "execution_count": 89,
   "metadata": {},
   "outputs": [
    {
     "data": {
      "image/png": "[encoded data removed]",
      "text/plain": [
       "<Figure size 720x720 with 1 Axes>"
      ]
     },
     "metadata": {
      "needs_background": "light"
     },
     "output_type": "display_data"
    }
   ],
   "source": [
    "ra_rad = c3_matches.ra.wrap_at(180 * u.deg).radian  # can also use c4_matches as they're identical\n",
    "dec_rad = c3_matches.dec.radian\n",
    "#print(ra_rad)\n",
    "\n",
    "#plt.subplot(111, projection='aitoff')\n",
    "plt.grid(True)\n",
    "plt.axis('equal')\n",
    "plt.gca().invert_xaxis()\n",
    "plt.plot(ra_rad, dec_rad, '+', markersize=6)\n",
    "plt.gcf().set_size_inches(10, 10)"
   ]
  },
  {
   "cell_type": "code",
   "execution_count": null,
   "metadata": {},
   "outputs": [],
   "source": []
  }
 ],
 "metadata": {
  "kernelspec": {
   "display_name": "Python 3",
   "language": "python",
   "name": "python3"
  },
  "language_info": {
   "codemirror_mode": {
    "name": "ipython",
    "version": 3
   },
   "file_extension": ".py",
   "mimetype": "text/x-python",
   "name": "python",
   "nbconvert_exporter": "python",
   "pygments_lexer": "ipython3",
   "version": "3.8.3"
  }
 },
 "nbformat": 4,
 "nbformat_minor": 4
}
