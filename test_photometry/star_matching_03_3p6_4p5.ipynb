{
 "cells": [
  {
   "cell_type": "code",
   "execution_count": 1,
   "metadata": {},
   "outputs": [],
   "source": [
    "import numpy as np\n",
    "import math\n",
    "import pandas as pd\n",
    "import matplotlib.pyplot as plt\n",
    "from astropy.coordinates import SkyCoord\n",
    "from astropy import units as u\n",
    "from astropy import wcs\n",
    "from astropy.io import fits\n",
    "from astropy.coordinates import SkyCoord\n",
    "from astropy.coordinates import match_coordinates_sky\n",
    "from astropy.io import ascii"
   ]
  },
  {
   "cell_type": "code",
   "execution_count": 2,
   "metadata": {},
   "outputs": [],
   "source": [
    "def deg_to_sex(ra, dec):\n",
    "    c = SkyCoord(ra = ra*u.degree, dec = dec*u.degree)\n",
    "    print('RA: {0}\\ndec: {1}'.format(c.ra.hms, c.dec.dms))"
   ]
  },
  {
   "cell_type": "code",
   "execution_count": 3,
   "metadata": {},
   "outputs": [],
   "source": [
    "image3 = 'data/PAL5/PAL5__e1/PAL5__e1_3p6um.fits'\n",
    "image4 = 'data/PAL5/PAL5__e1/PAL5__e1_4p5um.fits'\n",
    "\n",
    "with fits.open(image3) as hdul:\n",
    "    data3 = hdul[0].data\n",
    "    hdr3 = hdul[0].header\n",
    "    \n",
    "with fits.open(image4) as hdul:\n",
    "    data4 = hdul[0].data\n",
    "    hdr4 = hdul[0].header"
   ]
  },
  {
   "cell_type": "code",
   "execution_count": 4,
   "metadata": {},
   "outputs": [
    {
     "name": "stdout",
     "output_type": "stream",
     "text": [
      " id  xcenter   ycenter  apparent_mag_median\n",
      "--- --------- --------- -------------------\n",
      "  1 1335.7201 23.327156                 nan\n",
      "  2  1017.072 24.456139                 nan\n",
      "  3 1325.4233 24.020858                 nan\n",
      "  4 1267.5653 27.531396           17.188494\n",
      "  5 1138.3723 28.990912            16.84821\n",
      "  6  1300.237 29.593042           16.491523\n",
      "  7 722.22393 37.943258                 nan\n",
      "  8 797.63943 39.455565                 nan\n",
      "  9 910.48561  40.64482           17.511316\n",
      " 10 1150.0528 41.601753           15.136903\n",
      "...       ...       ...                 ...\n",
      "587 1144.7378 653.51864                 nan\n",
      "588  186.0682 654.73342           18.169397\n",
      "589 1036.0708 653.70605                 nan\n",
      "590 980.18034 655.72281                 nan\n",
      "591 370.13387 660.44529           17.134511\n",
      "592 419.57363 664.80689             16.6271\n",
      "593  282.3413 666.48873            17.74012\n",
      "594 410.61334 668.12726           16.011201\n",
      "595 538.22026 667.98723                 nan\n",
      "596 137.39183 668.73458           17.044523\n",
      "597 433.18189 673.11312                 nan\n",
      "Length = 597 rows\n",
      " id  xcenter   ycenter  apparent_mag_median\n",
      "--- --------- --------- -------------------\n",
      "247 771.96573 296.55047           16.285668\n",
      " id  xcenter   ycenter  apparent_mag_median\n",
      "--- --------- --------- -------------------\n",
      "240 91.378355 317.40204           16.032146\n"
     ]
    }
   ],
   "source": [
    "filename3 = 'outputs/e1_3p6.txt'\n",
    "filename4 = 'outputs/e1_4p5.txt'\n",
    "\n",
    "file3 = ascii.read(filename3, delimiter=',')\n",
    "file4 = ascii.read(filename4, delimiter=',')\n",
    "print(file3)\n",
    "print(file3[:][246])\n",
    "print(file4[:][239])\n",
    "\n",
    "#plt.plot(file_ap['apparent_mag_median'], file_psf['apparent_mag'][:1036])"
   ]
  },
  {
   "cell_type": "code",
   "execution_count": 5,
   "metadata": {},
   "outputs": [],
   "source": [
    "x3 = file3['xcenter']\n",
    "y3 = file3['ycenter']\n",
    "x4 = file4['xcenter']\n",
    "y4 = file4['ycenter']\n",
    "\n",
    "#plt.plot(x4, y4, 'b+', lw=0.15, markersize=8)\n",
    "#plt.plot(x3, y3, 'r.')\n",
    "#plt.gcf().set_size_inches(10, 6)"
   ]
  },
  {
   "cell_type": "code",
   "execution_count": 6,
   "metadata": {},
   "outputs": [],
   "source": [
    "#coords_ap = SkyCoord(ra = x_ap, dec = y_ap)"
   ]
  },
  {
   "cell_type": "code",
   "execution_count": 7,
   "metadata": {},
   "outputs": [
    {
     "name": "stdout",
     "output_type": "stream",
     "text": [
      "WCS Keywords\n",
      "\n",
      "Number of WCS axes: 2\n",
      "CTYPE : 'RA---TAN'  'DEC--TAN'  \n",
      "CRVAL : 229.025811  -0.055425  \n",
      "CRPIX : 707.123426  348.040937  \n",
      "CD1_1 CD1_2  : -2.7239819090855e-05  -0.000164428954736985  \n",
      "CD2_1 CD2_2  : -0.000164428954736985  2.7239819090855e-05  \n",
      "NAXIS : 1413  695 WCS Keywords\n",
      "\n",
      "Number of WCS axes: 2\n",
      "CTYPE : 'RA---TAN'  'DEC--TAN'  \n",
      "CRVAL : 229.01073  -0.167517  \n",
      "CRPIX : 704.554985  346.90351  \n",
      "CD1_1 CD1_2  : -2.76759076885448e-05  -0.000164356116508073  \n",
      "CD2_1 CD2_2  : -0.000164356116508073  2.76759076885448e-05  \n",
      "NAXIS : 1408  693\n",
      "229.03231956662157 -0.06762673179030487\n",
      "229.03235691606577 -0.06769092671708603\n",
      "RA: hms_tuple(h=15.0, m=16.0, s=7.756695989184124)\n",
      "dec: dms_tuple(d=-0.0, m=-4.0, s=-3.4562344450975147)\n",
      "RA: hms_tuple(h=15.0, m=16.0, s=7.765659855793103)\n",
      "dec: dms_tuple(d=-0.0, m=-4.0, s=-3.6873361815097105)\n"
     ]
    }
   ],
   "source": [
    "w3 = wcs.WCS(hdr3)\n",
    "w4 = wcs.WCS(hdr4)\n",
    "print(w3, w4)\n",
    "#w.wcs.print_contents()\n",
    "\n",
    "crd3 = np.transpose((x3, y3))\n",
    "crd4 = np.transpose((x4, y4))\n",
    "world3 = w3.wcs_pix2world(crd3, 0)\n",
    "world4 = w4.wcs_pix2world(crd4, 0)\n",
    "\n",
    "#print(world_ap, world_psf)\n",
    "\n",
    "ra3 = world3[:,0]\n",
    "dec3 = world3[:,1]\n",
    "ra4 = world4[:,0]\n",
    "dec4 = world4[:,1]\n",
    "\n",
    "# checking a star known to be detected in both channels has the correct coordinates:\n",
    "print(ra3[246], dec3[246])\n",
    "print(ra4[239], dec4[239])\n",
    "deg_to_sex(ra3[246], dec3[246])\n",
    "deg_to_sex(ra4[239], dec4[239])"
   ]
  },
  {
   "cell_type": "code",
   "execution_count": 8,
   "metadata": {},
   "outputs": [
    {
     "name": "stdout",
     "output_type": "stream",
     "text": [
      "Number of common stars: 216\n"
     ]
    }
   ],
   "source": [
    "c3 = SkyCoord(ra3, dec3, frame='icrs', unit='deg')\n",
    "c4 = SkyCoord(ra4, dec4, frame='icrs', unit='deg')\n",
    "#print(len(c3), len(c4))\n",
    "\n",
    "idx, d2d, d3d = c4.match_to_catalog_sky(c3)\n",
    "#print(idx, d2d, d3d)\n",
    "#print(len(idx))\n",
    "#print(d2d)\n",
    "\n",
    "data3_new = file3.copy()\n",
    "data4_new = file4.copy()\n",
    "#print(data3_new, data3_new['xcenter'])\n",
    "data3_new['ra'] = ra3\n",
    "data3_new['dec'] = dec3\n",
    "data4_new['ra'] = ra4\n",
    "data4_new['dec'] = dec4\n",
    "#print(data3_new['ra'])\n",
    "\n",
    "radius = 1. * u.arcsec\n",
    "selection = (d2d > radius)\n",
    "match_index = idx\n",
    "match_index[selection] = -99.\n",
    "ind = ((match_index >= 0))  # removes -99 indices\n",
    "#print(ind)\n",
    "print('Number of common stars: {}'.format(sum(ind)))\n",
    "\n",
    "mag3 = data3_new['apparent_mag_median'][match_index][ind]\n",
    "mag4 = data4_new['apparent_mag_median'][ind]\n",
    "delta_mag = data3_new['apparent_mag_median'][match_index][ind] - data4_new['apparent_mag_median'][ind]"
   ]
  },
  {
   "cell_type": "code",
   "execution_count": 11,
   "metadata": {},
   "outputs": [
    {
     "data": {
      "image/png": "[encoded data removed]",
      "text/plain": [
       "<Figure size 720x576 with 1 Axes>"
      ]
     },
     "metadata": {
      "needs_background": "light"
     },
     "output_type": "display_data"
    }
   ],
   "source": [
    "plt.plot(delta_mag, mag3, 'b+', label='3.6 um', markersize=4)\n",
    "#plt.plot(delta_mag, mag4, 'rx', label='4.5 um', markersize=4)\n",
    "plt.ylabel('Apparent magnitude')\n",
    "plt.xlabel('[3.6] - [4.5]')\n",
    "#plt.legend()\n",
    "plt.grid()\n",
    "plt.axis('equal')\n",
    "plt.gca().invert_yaxis()\n",
    "plt.gcf().set_size_inches(10, 8)\n",
    "\n",
    "#print(mag3[69], mag4[69], delta_mag[69])"
   ]
  },
  {
   "cell_type": "markdown",
   "metadata": {},
   "source": [
    "with 0.6x0.6 arcsec pixels, 6 pix (i.e. aperture radius) = 3.6 arcsec = 0.001 deg:\n",
    "\n",
    "(definitely don't want to use this for max separation tho; since psf and ap phot both use ap phot to detect stars, the centroid coords should hopefully be identical, or at least very very close)"
   ]
  },
  {
   "cell_type": "code",
   "execution_count": 11,
   "metadata": {},
   "outputs": [
    {
     "data": {
      "text/latex": [
       "$0.001 \\; \\mathrm{{}^{\\circ}}$"
      ],
      "text/plain": [
       "<Quantity 0.001 deg>"
      ]
     },
     "execution_count": 11,
     "metadata": {},
     "output_type": "execute_result"
    }
   ],
   "source": [
    "x = 3.6 * u.arcsec\n",
    "x.to(u.deg)"
   ]
  },
  {
   "cell_type": "code",
   "execution_count": 12,
   "metadata": {},
   "outputs": [
    {
     "name": "stdout",
     "output_type": "stream",
     "text": [
      "216\n",
      "216\n"
     ]
    }
   ],
   "source": [
    "#max_sep = 0.0001 * u.deg\n",
    "constraint = d2d < radius\n",
    "c4_matches = c4[constraint]\n",
    "c3_matches = c3[idx[constraint]]\n",
    "\n",
    "print(len(c3_matches))\n",
    "print(len(c4_matches))\n",
    "#print(c3_matches)\n",
    "#print(c4_matches)"
   ]
  },
  {
   "cell_type": "code",
   "execution_count": 13,
   "metadata": {},
   "outputs": [
    {
     "data": {
      "image/png": "[encoded data removed]",
      "text/plain": [
       "<Figure size 720x720 with 1 Axes>"
      ]
     },
     "metadata": {
      "needs_background": "light"
     },
     "output_type": "display_data"
    }
   ],
   "source": [
    "ra_rad = c3_matches.ra.wrap_at(180 * u.deg).radian  # can also use c4_matches as they're identical\n",
    "dec_rad = c3_matches.dec.radian\n",
    "#print(ra_rad)\n",
    "\n",
    "#plt.subplot(111, projection='aitoff')\n",
    "plt.grid(True)\n",
    "plt.axis('equal')\n",
    "plt.gca().invert_xaxis()\n",
    "plt.plot(ra_rad, dec_rad, '+', markersize=6)\n",
    "plt.gcf().set_size_inches(10, 10)"
   ]
  },
  {
   "cell_type": "code",
   "execution_count": null,
   "metadata": {},
   "outputs": [],
   "source": []
  }
 ],
 "metadata": {
  "kernelspec": {
   "display_name": "Python 3",
   "language": "python",
   "name": "python3"
  },
  "language_info": {
   "codemirror_mode": {
    "name": "ipython",
    "version": 3
   },
   "file_extension": ".py",
   "mimetype": "text/x-python",
   "name": "python",
   "nbconvert_exporter": "python",
   "pygments_lexer": "ipython3",
   "version": "3.8.3"
  }
 },
 "nbformat": 4,
 "nbformat_minor": 4
}
