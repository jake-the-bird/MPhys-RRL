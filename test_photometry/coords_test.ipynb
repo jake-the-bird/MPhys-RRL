{
 "cells": [
  {
   "cell_type": "code",
   "execution_count": 2,
   "metadata": {},
   "outputs": [],
   "source": [
    "import numpy as np\n",
    "from astropy import units as u\n",
    "from astropy.coordinates import SkyCoord"
   ]
  },
  {
   "cell_type": "code",
   "execution_count": 3,
   "metadata": {},
   "outputs": [
    {
     "name": "stdout",
     "output_type": "stream",
     "text": [
      "hms_tuple(h=15.0, m=16.0, s=9.498071531386074)\n",
      "-0d16m23.3494s\n"
     ]
    }
   ],
   "source": [
    "c = SkyCoord(ra=229.0395752980474*u.degree, dec=-0.27315259808741965*u.degree)\n",
    "print(c.ra.hms)\n",
    "print(c.dec)"
   ]
  },
  {
   "cell_type": "code",
   "execution_count": 21,
   "metadata": {},
   "outputs": [
    {
     "name": "stdout",
     "output_type": "stream",
     "text": [
      "star: 2\n",
      "id:   4418726027016125056\n",
      "RA:   229.05318546815684\n",
      "dec:  -0.16753341271842292\n"
     ]
    }
   ],
   "source": [
    "ref_name = 'data/reference/PAL5_Gaia_radius_10_arcmin.csv'\n",
    "ref_file = np.genfromtxt(ref_name, skip_header=1, delimiter=',', dtype=None, unpack=True, encoding=None)\n",
    "\n",
    "# using Gaia catalogue\n",
    "star_no = 2\n",
    "\n",
    "id = ref_file[star_no][0]\n",
    "RA = ref_file[star_no][1]\n",
    "dec = ref_file[star_no][3]\n",
    "print('star: {3}\\nid:   {0}\\nRA:   {1}\\ndec:  {2}'.format(id, RA, dec, star_no))"
   ]
  },
  {
   "cell_type": "code",
   "execution_count": null,
   "metadata": {},
   "outputs": [],
   "source": []
  },
  {
   "cell_type": "code",
   "execution_count": 35,
   "metadata": {},
   "outputs": [
    {
     "name": "stdout",
     "output_type": "stream",
     "text": [
      "[229.0395752980474, 229.14462533811073, 229.05318546815684, 229.0104637260607, 229.09705423020364, 228.99266625761803, 228.99144962264384, 228.99634825110095, 228.98840114088054]\n"
     ]
    }
   ],
   "source": [
    "RAs = []\n",
    "decs = []\n",
    "\n",
    "for i in range(9):\n",
    "    RA = ref_file[i][1]\n",
    "    dec = ref_file[i][2]\n",
    "    RAs.append(RA)\n",
    "    decs.append(dec)\n",
    "    \n",
    "print(RAs)"
   ]
  },
  {
   "cell_type": "code",
   "execution_count": null,
   "metadata": {},
   "outputs": [],
   "source": []
  },
  {
   "cell_type": "code",
   "execution_count": 3,
   "metadata": {},
   "outputs": [
    {
     "data": {
      "text/plain": [
       "<SkyCoord (ICRS): (ra, dec) in deg\n",
       "    (228.98825, -0.11480556)>"
      ]
     },
     "execution_count": 3,
     "metadata": {},
     "output_type": "execute_result"
    }
   ],
   "source": [
    "c = SkyCoord('15h15m57.18s', '-00d06m53.3s')\n",
    "c"
   ]
  },
  {
   "cell_type": "markdown",
   "metadata": {},
   "source": [
    "### Converting Christine's star coords to degrees:"
   ]
  },
  {
   "cell_type": "code",
   "execution_count": 33,
   "metadata": {},
   "outputs": [
    {
     "name": "stdout",
     "output_type": "stream",
     "text": [
      "<SkyCoord (ICRS): (ra, dec) in deg\n",
      "    (228.98825, -0.11480556)>\n",
      "star: 0\n",
      "id:   1\n",
      "RA:   hms_tuple(h=15.0, m=15.0, s=57.18000000000529)\n",
      "dec:  dms_tuple(d=-0.0, m=-6.0, s=-53.30000000000002)\n",
      "mag:  17.71\n",
      "\n",
      "<SkyCoord (ICRS): (ra, dec) in deg\n",
      "    (228.99145833, -0.18983333)>\n",
      "star: 1\n",
      "id:   2\n",
      "RA:   hms_tuple(h=15.0, m=15.0, s=57.95000000000954)\n",
      "dec:  dms_tuple(d=-0.0, m=-11.0, s=-23.399999999999928)\n",
      "mag:  17.81\n",
      "\n",
      "<SkyCoord (ICRS): (ra, dec) in deg\n",
      "    (229.05316667, -0.16758333)>\n",
      "star: 2\n",
      "id:   3\n",
      "RA:   hms_tuple(h=15.0, m=16.0, s=12.760000000006642)\n",
      "dec:  dms_tuple(d=-0.0, m=-10.0, s=-3.299999999999983)\n",
      "mag:  17.7\n",
      "\n",
      "<SkyCoord (ICRS): (ra, dec) in deg\n",
      "    (229.024125, -0.18686111)>\n",
      "star: 3\n",
      "id:   4\n",
      "RA:   hms_tuple(h=15.0, m=16.0, s=5.790000000009741)\n",
      "dec:  dms_tuple(d=-0.0, m=-11.0, s=-12.69999999999996)\n",
      "mag:  17.69\n",
      "\n",
      "<SkyCoord (ICRS): (ra, dec) in deg\n",
      "    (228.992625, -0.0965)>\n",
      "star: 4\n",
      "id:   5\n",
      "RA:   hms_tuple(h=15.0, m=15.0, s=58.23000000000178)\n",
      "dec:  dms_tuple(d=-0.0, m=-5.0, s=-47.400000000000006)\n",
      "mag:  17.7\n",
      "\n"
     ]
    }
   ],
   "source": [
    "filename = 'data/reference/CVSGC_PAL5_readable.txt'\n",
    "data = np.genfromtxt(filename, skip_header=1, delimiter=',', dtype=None, unpack=True, encoding=None)\n",
    "\n",
    "star_no = 0\n",
    "\n",
    "for star_no in range(len(data)):\n",
    "\n",
    "    id = data[star_no][0]\n",
    "    RA = data[star_no][1]\n",
    "    dec = data[star_no][2]\n",
    "    mag = data[star_no][5]\n",
    "\n",
    "    c = SkyCoord(RA, dec)\n",
    "    print(c)\n",
    "\n",
    "    print('star: {3}\\nid:   {0}\\nRA:   {1}\\ndec:  {2}\\nmag:  {4}\\n'.format(id, c.ra.hms, c.dec.dms, star_no, mag))"
   ]
  },
  {
   "cell_type": "code",
   "execution_count": 41,
   "metadata": {},
   "outputs": [
    {
     "name": "stdout",
     "output_type": "stream",
     "text": [
      "<SkyCoord (ICRS): (ra, dec) in deg\n",
      "    (229.05200667, -0.04100972)>\n"
     ]
    }
   ],
   "source": [
    "temp_ra = '15h16m12.4816s'\n",
    "temp_dec = '-00d02m27.635s'\n",
    "c = SkyCoord(temp_ra, temp_dec)\n",
    "print(c)"
   ]
  },
  {
   "cell_type": "code",
   "execution_count": 42,
   "metadata": {},
   "outputs": [
    {
     "name": "stdout",
     "output_type": "stream",
     "text": [
      "229.05203564883058, -0.040969605235176204\n"
     ]
    }
   ],
   "source": [
    "print('229.05203564883058, -0.040969605235176204')"
   ]
  },
  {
   "cell_type": "code",
   "execution_count": null,
   "metadata": {},
   "outputs": [],
   "source": []
  }
 ],
 "metadata": {
  "kernelspec": {
   "display_name": "Python 3",
   "language": "python",
   "name": "python3"
  },
  "language_info": {
   "codemirror_mode": {
    "name": "ipython",
    "version": 3
   },
   "file_extension": ".py",
   "mimetype": "text/x-python",
   "name": "python",
   "nbconvert_exporter": "python",
   "pygments_lexer": "ipython3",
   "version": "3.8.3"
  }
 },
 "nbformat": 4,
 "nbformat_minor": 4
}
