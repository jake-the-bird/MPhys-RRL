{
 "cells": [
  {
   "cell_type": "code",
   "execution_count": 2,
   "metadata": {},
   "outputs": [],
   "source": [
    "import numpy as np\n",
    "from astropy import units as u\n",
    "from astropy.coordinates import SkyCoord"
   ]
  },
  {
   "cell_type": "code",
   "execution_count": 3,
   "metadata": {},
   "outputs": [
    {
     "name": "stdout",
     "output_type": "stream",
     "text": [
      "hms_tuple(h=15.0, m=16.0, s=9.498071531386074)\n",
      "-0d16m23.3494s\n"
     ]
    }
   ],
   "source": [
    "c = SkyCoord(ra=229.0395752980474*u.degree, dec=-0.27315259808741965*u.degree)\n",
    "print(c.ra.hms)\n",
    "print(c.dec)"
   ]
  },
  {
   "cell_type": "code",
   "execution_count": 13,
   "metadata": {},
   "outputs": [
    {
     "name": "stdout",
     "output_type": "stream",
     "text": [
      "star: 2\n",
      "id:   4418726027016125056\n",
      "RA:   229.05318546815684\n",
      "dec: -0.16753341271842292\n"
     ]
    }
   ],
   "source": [
    "ref_name = 'data/Gaia/PAL5_Gaia_radius_10_arcmin.csv'\n",
    "ref_file = np.genfromtxt(ref_name, skip_header=1, delimiter=',', dtype=None, unpack=True, encoding=None)\n",
    "\n",
    "# using Gaia catalogue\n",
    "star_no = 2\n",
    "\n",
    "id = ref_file[star_no][0]\n",
    "RA = ref_file[star_no][1]\n",
    "dec = ref_file[star_no][2]\n",
    "print('star: {3}\\nid:   {0}\\nRA:   {1}\\ndec: {2}'.format(id, RA, dec, star_no))"
   ]
  },
  {
   "cell_type": "code",
   "execution_count": null,
   "metadata": {},
   "outputs": [],
   "source": []
  },
  {
   "cell_type": "code",
   "execution_count": 35,
   "metadata": {},
   "outputs": [
    {
     "name": "stdout",
     "output_type": "stream",
     "text": [
      "[229.0395752980474, 229.14462533811073, 229.05318546815684, 229.0104637260607, 229.09705423020364, 228.99266625761803, 228.99144962264384, 228.99634825110095, 228.98840114088054]\n"
     ]
    }
   ],
   "source": [
    "RAs = []\n",
    "decs = []\n",
    "\n",
    "for i in range(9):\n",
    "    RA = ref_file[i][1]\n",
    "    dec = ref_file[i][2]\n",
    "    RAs.append(RA)\n",
    "    decs.append(dec)\n",
    "    \n",
    "print(RAs)"
   ]
  },
  {
   "cell_type": "code",
   "execution_count": null,
   "metadata": {},
   "outputs": [],
   "source": []
  }
 ],
 "metadata": {
  "kernelspec": {
   "display_name": "Python 3",
   "language": "python",
   "name": "python3"
  },
  "language_info": {
   "codemirror_mode": {
    "name": "ipython",
    "version": 3
   },
   "file_extension": ".py",
   "mimetype": "text/x-python",
   "name": "python",
   "nbconvert_exporter": "python",
   "pygments_lexer": "ipython3",
   "version": "3.8.3"
  }
 },
 "nbformat": 4,
 "nbformat_minor": 4
}
