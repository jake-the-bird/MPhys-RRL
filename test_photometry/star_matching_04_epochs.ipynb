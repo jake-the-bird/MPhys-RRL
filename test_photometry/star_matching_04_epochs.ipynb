{
 "cells": [
  {
   "cell_type": "code",
   "execution_count": 28,
   "metadata": {},
   "outputs": [],
   "source": [
    "import numpy as np\n",
    "import glob\n",
    "import pandas as pd\n",
    "import matplotlib.pyplot as plt\n",
    "from astropy.coordinates import SkyCoord\n",
    "from astropy import units as u\n",
    "from astropy import wcs\n",
    "from astropy.io import fits\n",
    "from astropy.coordinates import SkyCoord\n",
    "from astropy.coordinates import match_coordinates_sky\n",
    "from astropy.io import ascii"
   ]
  },
  {
   "cell_type": "code",
   "execution_count": 29,
   "metadata": {},
   "outputs": [],
   "source": [
    "def deg_to_sex(ra, dec):\n",
    "    c = SkyCoord(ra = ra*u.degree, dec = dec*u.degree)\n",
    "    print('RA: {0}\\ndec: {1}'.format(c.ra.hms, c.dec.dms))"
   ]
  },
  {
   "cell_type": "code",
   "execution_count": 30,
   "metadata": {},
   "outputs": [],
   "source": [
    "image1 = 'data/PAL5/PAL5/PAL5_3p6um.fits'\n",
    "#image1 = 'data/PAL5/PAL5__e1/PAL5__e1_3p6um.fits'\n",
    "image2 = 'data/PAL5/PAL5__e2/PAL5__e2_3p6um.fits'\n",
    "with fits.open(image1) as hdul:\n",
    "    hdr1 = hdul[0].header\n",
    "with fits.open(image2) as hdul:\n",
    "    hdr2 = hdul[0].header\n",
    "\n",
    "file1 = 'outputs/table_3p6um_master.txt'\n",
    "#file1 = 'outputs/table_3p6um_e1.txt'\n",
    "file2 = 'outputs/table_3p6um_e2.txt'\n",
    "stars1 = ascii.read(file1, delimiter=',')\n",
    "stars2 = ascii.read(file2, delimiter=',')\n",
    "\n",
    "x1 = stars1['xcentroid']\n",
    "y1 = stars1['ycentroid']\n",
    "#x1 = stars1['xcenter']\n",
    "#y1 = stars1['ycenter']\n",
    "x2 = stars2['xcenter']\n",
    "y2 = stars2['ycenter']\n",
    "crd1 = np.transpose((x1, y1))\n",
    "crd2 = np.transpose((x2, y2))"
   ]
  },
  {
   "cell_type": "code",
   "execution_count": 31,
   "metadata": {
    "scrolled": true
   },
   "outputs": [],
   "source": [
    "w1 = wcs.WCS(hdr1)\n",
    "w2 = wcs.WCS(hdr2)\n",
    "world1 = w1.wcs_pix2world(crd1, 0)\n",
    "world2 = w2.wcs_pix2world(crd2, 0)\n",
    "\n",
    "ra1 = world1[:,0]\n",
    "dec1 = world1[:,1]\n",
    "ra2 = world2[:,0]\n",
    "dec2 = world2[:,1]\n",
    "\n",
    "c1 = SkyCoord(ra1, dec1, frame='icrs', unit='deg')\n",
    "c2 = SkyCoord(ra2, dec2, frame='icrs', unit='deg')\n",
    "\n",
    "idx, d2d, d3d = c2.match_to_catalog_sky(c1)\n",
    "#print(d3d)\n",
    "\n",
    "stars1['ra'] = ra1\n",
    "stars1['dec'] = dec1\n",
    "stars2['ra'] = ra2\n",
    "stars2['dec'] = dec2"
   ]
  },
  {
   "cell_type": "markdown",
   "metadata": {},
   "source": [
    "This method selects stars which are *further* than a certain separation, replaces their indices with -99, and removes them from the dataset:"
   ]
  },
  {
   "cell_type": "code",
   "execution_count": 32,
   "metadata": {},
   "outputs": [],
   "source": [
    "#radius = 0.25 * u.arcsec\n",
    "#selection = (d2d > radius)\n",
    "#match_index = idx\n",
    "#match_index[selection] = -99.\n",
    "#ind = ((match_index >= 0))  # removes -99 indices\n",
    "#print('Number of common stars:', sum(ind))\n",
    "\n",
    "#mag1 = stars1['apparent_mag'][match_index][ind]\n",
    "#mag2 = stars2['apparent_mag'][ind]\n",
    "#delta_mag = stars1['apparent_mag'][match_index][ind] - stars2['apparent_mag'][ind]"
   ]
  },
  {
   "cell_type": "markdown",
   "metadata": {},
   "source": [
    "This method selects stars which are *closer* than a certain separation, and keeps only those stars in the catalogues (doesn't apply to tables where we have the magnitudes tho):"
   ]
  },
  {
   "cell_type": "code",
   "execution_count": 33,
   "metadata": {},
   "outputs": [],
   "source": [
    "#radius = 0.25 * u.arcsec\n",
    "#selection = d2d < radius\n",
    "#c2_matches = c2[selection]\n",
    "#c1_matches = c1[idx[selection]]\n",
    "\n",
    "#print(c2_matches)"
   ]
  },
  {
   "cell_type": "markdown",
   "metadata": {},
   "source": [
    "USE THIS ONE PLS: This method selects stars which are *further* than a certain separation, replaces their indices with -99, and removes them from the dataset:"
   ]
  },
  {
   "cell_type": "code",
   "execution_count": 34,
   "metadata": {
    "scrolled": false
   },
   "outputs": [
    {
     "name": "stdout",
     "output_type": "stream",
     "text": [
      "Number of common stars: 446\n",
      "id_master     xcentroid      ...         dec                  ra        \n",
      "--------- ------------------ ... -------------------- ------------------\n",
      "        1 1269.5063258483376 ... -0.15644268282020193  229.0630315162843\n",
      "        2 1140.2739672278392 ...  -0.1351476171842811  229.0662732722692\n",
      "        3 1302.5323577023107 ...  -0.1618256156510142 229.06184132896902\n",
      "        4   799.686317494766 ...  -0.0788740231578068 229.07389270435505\n",
      "        6 1152.0517082774918 ...  -0.1367532412693178 229.06392773476134\n",
      "        7  598.6735177125719 ...  -0.0457152943064213  229.0787177354827\n",
      "       10 1344.9425064804868 ...  -0.1683672050048424  229.0580442428365\n",
      "       11 1129.5421224473064 ... -0.13288009487872435 229.06348921167694\n",
      "       13 1134.6013478827433 ...  -0.1336606723589888 229.06303754176184\n",
      "       12  655.6895914558028 ... -0.05490643966128278 229.07603925177105\n",
      "      ...                ... ...                  ...                ...\n",
      "      745 109.80693551796169 ...  0.05001876459175078 228.99813297428597\n",
      "      752 343.68816390876293 ... 0.011759248750450665 228.99055496864077\n",
      "      755 379.17372295885656 ... 0.006197277832769614 228.98791901393835\n",
      "      757 1021.2354193160731 ... -0.09938589940109761 228.97048726261852\n",
      "      761  806.9872000995314 ... -0.06395447094831054  228.9750830065659\n",
      "      763 260.85069682332045 ... 0.025940290606730202 228.98938480839243\n",
      "      766  393.0888226191195 ... 0.004237353106153648   228.985532747398\n",
      "      773  583.4982811737617 ... -0.02690362979254319 228.97931898303494\n",
      "      778 1036.6172920900276 ... -0.10129982217057798 228.96630430431549\n",
      "      780  980.7930115321582 ... -0.09209656932958019 228.96767743700053\n",
      "      785 282.89911277461044 ... 0.022954960526053673  228.9848687227031\n",
      "Length = 446 rows\n",
      " id      xcenter       ...         ra                  dec         \n",
      "--- ------------------ ... ------------------ ---------------------\n",
      "  3  1267.525752692554 ... 229.06300079128866  -0.15640906704271035\n",
      "  4 1138.3435127601874 ... 229.06628378818826  -0.13512884532770075\n",
      "  5 1300.7852923152661 ... 229.06178351426067  -0.16182645451375405\n",
      "  6  797.6116369462967 ... 229.07389932025595  -0.07882749175980658\n",
      "  7   1150.14697405021 ... 229.06393787462753  -0.13673523548519564\n",
      "  9  597.0553627526994 ...  229.0787637311847 -0.045751334537429876\n",
      " 12 1343.5395937474266 ... 229.05801646322095  -0.16842654445042374\n",
      " 14  1127.897451801893 ... 229.06348175403753   -0.1329012980103931\n",
      " 15 1133.0398253328622 ... 229.06303746608754  -0.13369659480508858\n",
      " 16  654.2110611730621 ...  229.0760037595389  -0.05495063110331733\n",
      "...                ... ...                ...                   ...\n",
      "535 109.03722906725085 ... 228.99810274579437   0.05001470476489566\n",
      "539 342.51653238090944 ...   228.990570657928  0.011817680002472332\n",
      "541  378.2948026080889 ... 228.98788546152102 0.0062173056719756516\n",
      "543 1020.2444345430147 ...  228.9704450247024   -0.0993453698745104\n",
      "546  805.9117627388498 ... 228.97513892471903  -0.06391381809795776\n",
      "547  260.0029234796036 ...   228.989441044325   0.02594322815417333\n",
      "548  392.3445432293402 ... 228.98548817153443  0.004239944479038116\n",
      "552  582.7842815719312 ... 228.97933978604507 -0.026915102794737723\n",
      "555 1035.9012626199744 ... 228.96627689937594  -0.10130165589920802\n",
      "557  979.9588084828878 ... 228.96769336455813  -0.09208536360147797\n",
      "560 282.35900519896796 ... 228.98492216541896  0.022913186421262312\n",
      "Length = 446 rows\n"
     ]
    }
   ],
   "source": [
    "radius = 0.25 * u.arcsec\n",
    "selection = (d2d > radius)\n",
    "match_index = idx\n",
    "match_index[selection] = -99.\n",
    "ind = ((match_index >= 0))  # keeps only positive indices (ie. yeets -99s)\n",
    "print('Number of common stars:', sum(ind))\n",
    "\n",
    "newstars1 = stars1[match_index][ind]\n",
    "newstars2 = stars2[ind]\n",
    "#delta_mag = newstars1['apparent_mag'] - newstars2['apparent_mag']\n",
    "print(newstars1)\n",
    "print(newstars2)\n",
    "#print(delta_mag)"
   ]
  },
  {
   "cell_type": "code",
   "execution_count": 21,
   "metadata": {},
   "outputs": [
    {
     "data": {
      "image/png": "[encoded data removed]",
      "text/plain": [
       "<Figure size 720x576 with 1 Axes>"
      ]
     },
     "metadata": {
      "needs_background": "light"
     },
     "output_type": "display_data"
    }
   ],
   "source": [
    "plt.plot(delta_mag, stars1['apparent_mag'], 'b+')\n",
    "#plt.plot(delta_mag, mag1, 'b+')\n",
    "plt.xlabel('Difference in magnitude between epochs')\n",
    "plt.ylabel('Magnitude')\n",
    "plt.grid()\n",
    "plt.gca().invert_yaxis()\n",
    "plt.gcf().set_size_inches(10, 8)\n",
    "plt.show()"
   ]
  },
  {
   "cell_type": "code",
   "execution_count": 88,
   "metadata": {},
   "outputs": [],
   "source": [
    "def make_catalog(file, header):\n",
    "    stars = ascii.read(file, delimiter=',')\n",
    "    x = stars['xcenter']\n",
    "    y = stars['ycenter']\n",
    "    crd = np.transpose((x, y))\n",
    "    w = wcs.WCS(header)\n",
    "    world = w.wcs_pix2world(crd, 0)\n",
    "    ra = world[:,0]\n",
    "    dec = world[:,1]\n",
    "    cat = SkyCoord(ra, dec, frame='icrs', unit='deg')\n",
    "    \n",
    "    return stars, cat"
   ]
  },
  {
   "cell_type": "markdown",
   "metadata": {},
   "source": [
    "Ignore this (I didn't finish it, working implementation in main code):"
   ]
  },
  {
   "cell_type": "code",
   "execution_count": 67,
   "metadata": {},
   "outputs": [
    {
     "data": {
      "image/png": "[encoded data removed]",
      "text/plain": [
       "<Figure size 720x576 with 1 Axes>"
      ]
     },
     "metadata": {
      "needs_background": "light"
     },
     "output_type": "display_data"
    }
   ],
   "source": [
    "base_dir = 'data/PAL5/'\n",
    "channel = '3p6um'\n",
    "#channel = '4p5um'\n",
    "epoch = 1\n",
    "n_epoch = 12\n",
    "\n",
    "comp_epoch = 1\n",
    "image_comp = base_dir+'PAL5__e'+str(comp_epoch)+'/PAL5__e'+str(comp_epoch)+'_'+channel+'.fits'\n",
    "with fits.open(image_comp) as hdu_list:\n",
    "    hdr_comp = hdu_list[0].header\n",
    "file_comp = 'outputs/table_e'+str(comp_epoch)+'_'+channel+'.txt'\n",
    "\n",
    "stars_comp, cat_comp = make_catalog(file_comp, hdr_comp)\n",
    "\n",
    "for i in range(n_epoch):\n",
    "    \n",
    "    image_curr = base_dir+'PAL5__e'+str(epoch)+'/PAL5__e'+str(epoch)+'_'+channel+'.fits'\n",
    "    with fits.open(filename) as hdu_list:\n",
    "        hdr_curr = hdu_list[0].header\n",
    "    file_curr = 'outputs/table_e1_3p6um.txt'\n",
    "    \n",
    "    stars_curr, cat_curr = make_catalog(file_curr, hdr_curr)\n",
    "    \n",
    "    stars1 = ascii.read(file1, delimiter=',')\n",
    "    stars2 = ascii.read(file2, delimiter=',')\n",
    "\n",
    "    x1 = stars1['xcenter']\n",
    "    y1 = stars1['ycenter']\n",
    "    x2 = stars2['xcenter']\n",
    "    y2 = stars2['ycenter']\n",
    "    crd1 = np.transpose((x1, y1))\n",
    "    crd2 = np.transpose((x2, y2))\n",
    "\n",
    "    w1 = wcs.WCS(hdr1)\n",
    "    w2 = wcs.WCS(hdr2)\n",
    "    world1 = w1.wcs_pix2world(crd1, 0)\n",
    "    world2 = w2.wcs_pix2world(crd2, 0)\n",
    "\n",
    "    ra1 = world1[:,0]\n",
    "    dec1 = world1[:,1]\n",
    "    ra2 = world2[:,0]\n",
    "    dec2 = world2[:,1]\n",
    "\n",
    "    c1 = SkyCoord(ra1, dec1, frame='icrs', unit='deg')\n",
    "    c2 = SkyCoord(ra2, dec2, frame='icrs', unit='deg')\n",
    "\n",
    "    idx, d2d, d3d = c2.match_to_catalog_sky(c1)\n",
    "    #print(d3d)\n",
    "\n",
    "    stars1['ra'] = ra1\n",
    "    stars1['dec'] = dec1\n",
    "    stars2['ra'] = ra2\n",
    "    stars2['dec'] = dec2\n",
    "\n",
    "    radius = 0.25 * u.arcsec\n",
    "    selection = (d2d > radius)\n",
    "    match_index = idx\n",
    "    match_index[selection] = -99.\n",
    "    ind = ((match_index >= 0))  # removes -99 indices\n",
    "    print('Number of common stars:', sum(ind))\n",
    "\n",
    "    mag1 = stars1['apparent_mag'][match_index][ind]\n",
    "    mag2 = stars2['apparent_mag'][ind]\n",
    "    delta_mag = stars1['apparent_mag'][match_index][ind] - stars2['apparent_mag'][ind]\n",
    "\n",
    "    plt.plot(delta_mag, mag1, 'b+')\n",
    "    plt.xlabel('Difference in magnitude between epochs')\n",
    "    plt.ylabel('Magnitude')\n",
    "    plt.grid()\n",
    "    plt.gca().invert_yaxis()\n",
    "    plt.gcf().set_size_inches(10, 8)\n",
    "    plt.show()\n",
    "    \n",
    "    epoch += 1"
   ]
  },
  {
   "cell_type": "code",
   "execution_count": 71,
   "metadata": {},
   "outputs": [
    {
     "name": "stdout",
     "output_type": "stream",
     "text": [
      "   apparent_mag   \n",
      "------------------\n",
      "17.185296063688693\n",
      "16.847198276163923\n",
      "               nan\n",
      " 15.13531836947663\n",
      "14.091034930137218\n",
      " 15.16861460739176\n",
      "16.141106978649987\n",
      "16.173555387237784\n",
      "14.235342159861155\n",
      " 17.39454099483277\n",
      "               ...\n",
      " 17.61055969973998\n",
      "15.787246715255343\n",
      "16.355641197764616\n",
      " 17.10503044244094\n",
      " 17.27643826575515\n",
      " 13.80627497415042\n",
      " 16.68529194607734\n",
      " 18.07337170594186\n",
      "17.627372821486667\n",
      "14.893671082570153\n",
      "16.637044716521036\n",
      "Length = 369 rows\n",
      "   apparent_mag   \n",
      "------------------\n",
      "17.704699887287685\n",
      " 17.36859488533921\n",
      "               nan\n",
      "  15.0910228273673\n",
      "14.118227968106197\n",
      " 15.12911062754583\n",
      " 16.11960262767009\n",
      "16.103666492321786\n",
      "14.247395813676503\n",
      "  17.1671190651639\n",
      "               ...\n",
      "17.068261978611698\n",
      "15.890574155107672\n",
      " 16.31606360129009\n",
      "17.557229283945887\n",
      "16.895953646955107\n",
      "13.759259108333321\n",
      "16.955310539924955\n",
      " 17.68057331535602\n",
      "17.944658393100564\n",
      "14.847951357850093\n",
      "16.666874423016704\n",
      "Length = 369 rows\n"
     ]
    }
   ],
   "source": [
    "print(mag1)\n",
    "print(mag2)"
   ]
  },
  {
   "cell_type": "code",
   "execution_count": null,
   "metadata": {},
   "outputs": [],
   "source": []
  }
 ],
 "metadata": {
  "kernelspec": {
   "display_name": "Python 3",
   "language": "python",
   "name": "python3"
  },
  "language_info": {
   "codemirror_mode": {
    "name": "ipython",
    "version": 3
   },
   "file_extension": ".py",
   "mimetype": "text/x-python",
   "name": "python",
   "nbconvert_exporter": "python",
   "pygments_lexer": "ipython3",
   "version": "3.8.3"
  }
 },
 "nbformat": 4,
 "nbformat_minor": 4
}
