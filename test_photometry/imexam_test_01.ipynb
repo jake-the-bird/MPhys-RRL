{
 "cells": [
  {
   "cell_type": "code",
   "execution_count": 1,
   "metadata": {},
   "outputs": [],
   "source": [
    "import imexam\n",
    "#import os"
   ]
  },
  {
   "cell_type": "code",
   "execution_count": 2,
   "metadata": {
    "scrolled": false
   },
   "outputs": [],
   "source": [
    "#os.environ['XPA_METHOD'] = \"local\"\n",
    "#os.environ['XPA_METHOD'] = \"inet\"\n",
    "\n",
    "viewer = imexam.connect(viewer='ginga', port=9856)\n",
    "viewer.load_fits('data/PAL5/PAL5__e1/PAL5__e1_3p6um.fits')"
   ]
  },
  {
   "cell_type": "code",
   "execution_count": 3,
   "metadata": {},
   "outputs": [
    {
     "data": {
      "text/plain": [
       "{1: {'filename': 'C:\\\\Users\\\\Jake\\\\MPhys-code\\\\MPhys-RRL\\\\test_photometry\\\\data\\\\PAL5\\\\PAL5__e1\\\\PAL5__e1_3p6um.fits',\n",
       "  'extver': None,\n",
       "  'extname': None,\n",
       "  'naxis': 0,\n",
       "  'numaxis': 2,\n",
       "  'iscube': False,\n",
       "  'user_array': None,\n",
       "  'image': <ginga.AstroImage.AstroImage at 0x2bcae24b220>,\n",
       "  'hdu': <astropy.io.fits.hdu.image.PrimaryHDU at 0x2bcae73d280>,\n",
       "  'mef': False}}"
      ]
     },
     "execution_count": 3,
     "metadata": {},
     "output_type": "execute_result"
    }
   ],
   "source": [
    "viewer.get_viewer_info()"
   ]
  },
  {
   "cell_type": "code",
   "execution_count": 4,
   "metadata": {
    "scrolled": true
   },
   "outputs": [
    {
     "name": "stdout",
     "output_type": "stream",
     "text": [
      "2 Make the next plot in a new window\n",
      "a Aperture sum, with radius region_size \n",
      "b Return the 2D gauss fit center of the object\n",
      "c Return column plot\n",
      "d Return the Center of Mass fit center of the object\n",
      "e Return a contour plot in a region around the cursor\n",
      "g Return curve of growth plot\n",
      "h Return a histogram in the region around the cursor\n",
      "j 1D [Gaussian1D default] line fit \n",
      "k 1D [Gaussian1D default] column fit\n",
      "l Return line plot\n",
      "m Square region stats, in [region_size],default is median\n",
      "r Return the radial profile plot\n",
      "s Save current figure to disk as [plot_name]\n",
      "t Make a fits image cutout using pointer location\n",
      "w Display a surface plot around the cursor location\n",
      "x Return x,y,value of pixel\n",
      "y Return x,y,value of pixel\n",
      "\n",
      "Press the i key in the graphics window for access                  to imexam keys, or q to exit\n",
      "\n",
      "read: r at 774.295, 356.42\n",
      "xc=772.5838\tyc=356.4719\n",
      "Background per pixel: 0.15155921537016545\n",
      "Max. pix. flux =    58.123\n",
      "amp =   114.103\n",
      "fwhm =     5.058\n"
     ]
    },
    {
     "name": "stderr",
     "output_type": "stream",
     "text": [
      "C:\\Users\\Jake\\anaconda3\\lib\\site-packages\\imexam\\math_helper.py:177: RuntimeWarning: invalid value encountered in log\n",
      "  z = np.nan_to_num(np.log(flux))\n"
     ]
    },
    {
     "data": {
      "image/png": "[encoded data removed]",
      "text/plain": [
       "<Figure size 432x288 with 1 Axes>"
      ]
     },
     "metadata": {
      "needs_background": "light"
     },
     "output_type": "display_data"
    }
   ],
   "source": [
    "viewer.imexam()"
   ]
  },
  {
   "cell_type": "code",
   "execution_count": null,
   "metadata": {
    "scrolled": true
   },
   "outputs": [],
   "source": [
    "viewer.set_plot_pars('j', 'rplot', 10.)"
   ]
  },
  {
   "cell_type": "code",
   "execution_count": 5,
   "metadata": {},
   "outputs": [
    {
     "name": "stdout",
     "output_type": "stream",
     "text": [
      "Stopped http server\n"
     ]
    }
   ],
   "source": [
    "viewer.close()"
   ]
  },
  {
   "cell_type": "code",
   "execution_count": null,
   "metadata": {},
   "outputs": [],
   "source": []
  }
 ],
 "metadata": {
  "kernelspec": {
   "display_name": "Python 3",
   "language": "python",
   "name": "python3"
  },
  "language_info": {
   "codemirror_mode": {
    "name": "ipython",
    "version": 3
   },
   "file_extension": ".py",
   "mimetype": "text/x-python",
   "name": "python",
   "nbconvert_exporter": "python",
   "pygments_lexer": "ipython3",
   "version": "3.8.3"
  }
 },
 "nbformat": 4,
 "nbformat_minor": 4
}
